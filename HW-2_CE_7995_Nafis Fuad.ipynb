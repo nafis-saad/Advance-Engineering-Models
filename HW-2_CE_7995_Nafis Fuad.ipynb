{
 "cells": [
  {
   "cell_type": "code",
   "execution_count": 1,
   "id": "94fe51b4",
   "metadata": {},
   "outputs": [
    {
     "name": "stderr",
     "output_type": "stream",
     "text": [
      "<ipython-input-1-aa5cc5cf52cd>:5: FutureWarning: The 'delim_whitespace' keyword in pd.read_csv is deprecated and will be removed in a future version. Use ``sep='\\s+'`` instead\n",
      "  df = pd.read_csv(file_path, delim_whitespace=True)  # Assume space-delimited\n"
     ]
    }
   ],
   "source": [
    "import pandas as pd\n",
    "\n",
    "# Read a space-delimited .dat file\n",
    "file_path = 'D:/7995/lpmc.dat'  # Replace with your file path\n",
    "df = pd.read_csv(file_path, delim_whitespace=True)  # Assume space-delimited\n"
   ]
  },
  {
   "cell_type": "code",
   "execution_count": 2,
   "id": "bd2a11f2",
   "metadata": {},
   "outputs": [],
   "source": [
    "import numpy as np\n",
    "import pandas as pd\n",
    "import biogeme.database as db\n",
    "import biogeme.biogeme as bio"
   ]
  },
  {
   "cell_type": "code",
   "execution_count": 3,
   "id": "e8aef751",
   "metadata": {},
   "outputs": [],
   "source": [
    "from biogeme import models\n",
    "from biogeme.expressions import Beta"
   ]
  },
  {
   "cell_type": "code",
   "execution_count": 4,
   "id": "f34c568f",
   "metadata": {},
   "outputs": [],
   "source": [
    "database = db.Database('london', df)"
   ]
  },
  {
   "cell_type": "code",
   "execution_count": 5,
   "id": "ffdf23f9",
   "metadata": {},
   "outputs": [],
   "source": [
    "globals().update(database.variables)"
   ]
  },
  {
   "cell_type": "code",
   "execution_count": 6,
   "id": "4807f3eb",
   "metadata": {},
   "outputs": [
    {
     "data": {
      "text/plain": [
       "['trip_id',\n",
       " 'household_id',\n",
       " 'person_n',\n",
       " 'trip_n',\n",
       " 'travel_mode',\n",
       " 'purpose',\n",
       " 'fueltype',\n",
       " 'faretype',\n",
       " 'bus_scale',\n",
       " 'survey_year',\n",
       " 'travel_year',\n",
       " 'travel_month',\n",
       " 'travel_date',\n",
       " 'day_of_week',\n",
       " 'start_time',\n",
       " 'age',\n",
       " 'female',\n",
       " 'driving_license',\n",
       " 'car_ownership',\n",
       " 'distance',\n",
       " 'dur_walking',\n",
       " 'dur_cycling',\n",
       " 'dur_pt_access',\n",
       " 'dur_pt_rail',\n",
       " 'dur_pt_bus',\n",
       " 'dur_pt_int',\n",
       " 'pt_interchanges',\n",
       " 'dur_driving',\n",
       " 'cost_transit',\n",
       " 'cost_driving_fuel',\n",
       " 'cost_driving_ccharge',\n",
       " 'driving_traffic_percent']"
      ]
     },
     "execution_count": 6,
     "metadata": {},
     "output_type": "execute_result"
    }
   ],
   "source": [
    "list(df.columns)"
   ]
  },
  {
   "cell_type": "code",
   "execution_count": 7,
   "id": "5ade2032",
   "metadata": {},
   "outputs": [],
   "source": [
    "# Parameters to be estimated\n",
    "ASC_WALKING = Beta('ASC_WALKING', 0, None, None, 1)\n",
    "ASC_CYCLING = Beta('ASC_CYCLING', 0, None, None, 0)\n",
    "ASC_PT = Beta('ASC_PT', 0, None, None, 0)\n",
    "ASC_DRIVING = Beta('ASC_DRIVING', 0, None, None, 0)\n",
    "B_TIME_WALKING = Beta('B_TIME_WALKING', 0, None, None, 0)\n",
    "B_TIME_CYCLING = Beta('B_TIME_CYCLING', 0, None, None, 0)\n",
    "B_TIME_DRIVING = Beta('B_TIME_DRIVING', 0, None, None, 0)\n",
    "B_COST_DRIVING = Beta('B_COST_DRIVING', 0, None, None, 0)\n",
    "B_COST_PT = Beta('B_COST_PT', 0, None, None, 0)\n",
    "B_TIME_PT_BUS = Beta('B_TIME_PT_BUS', 0, None, None, 0)\n",
    "B_TIME_PT_RAIL = Beta('B_TIME_PT_RAIL', 0, None, None, 0)\n",
    "B_TIME_PT_ACCESS = Beta('B_TIME_PT_ACCESS', 0, None, None, 0)\n",
    "B_TIME_PT_INT = Beta('B_TIME_PT_INT_WAIT', 0, None, None, 0)\n",
    "B_TRAFFIC_DRIVING = Beta('B_TRAFFIC_DRIVING', 0, None, None, 0)\n",
    "\n",
    "# Utility functions\n",
    "\n",
    "V1 = (\n",
    "    ASC_WALKING + \n",
    "    B_TIME_WALKING * dur_walking\n",
    ")\n",
    "\n",
    "V2 = (\n",
    "    ASC_CYCLING +\n",
    "    B_TIME_CYCLING * dur_cycling\n",
    ")\n",
    "\n",
    "V3 = (\n",
    "    ASC_PT +\n",
    "    B_COST_PT * cost_transit + \n",
    "    B_TIME_PT_ACCESS * dur_pt_access + \n",
    "    B_TIME_PT_RAIL * dur_pt_rail + \n",
    "    B_TIME_PT_BUS * dur_pt_bus +\n",
    "    B_TIME_PT_INT * dur_pt_int\n",
    ")\n",
    "      \n",
    "V4 = (\n",
    "    ASC_DRIVING +\n",
    "    B_TIME_DRIVING * dur_driving +\n",
    "    B_COST_DRIVING * (cost_driving_fuel + cost_driving_ccharge) +\n",
    "    B_TRAFFIC_DRIVING * driving_traffic_percent\n",
    ")\n",
    "      \n",
    "# Associate utility functions with the numbering of alternatives\n",
    "V = {1: V1,\n",
    "     2: V2,\n",
    "     3: V3,\n",
    "     4: V4}\n",
    "\n",
    "# Associate the availability conditions with the alternatives\n",
    "\n",
    "av = {1: 1,\n",
    "      2: 1,\n",
    "      3: 1,\n",
    "      4: 1}"
   ]
  },
  {
   "cell_type": "code",
   "execution_count": 8,
   "id": "c3232aae",
   "metadata": {},
   "outputs": [],
   "source": [
    "# Definition of the model. This is the contribution of each\n",
    "# observation to the log likelihood function.\n",
    "logprob = models.loglogit(V, av, travel_mode)\n",
    "\n",
    "# Create the Biogeme object\n",
    "biogeme = bio.BIOGEME(database, logprob)\n",
    "biogeme.modelName = 'lpmc_validation'\n",
    "\n",
    "# Estimate the parameters\n",
    "results = biogeme.estimate()"
   ]
  },
  {
   "cell_type": "code",
   "execution_count": 9,
   "id": "92fff0ea",
   "metadata": {},
   "outputs": [],
   "source": [
    "groups = 'household_id'\n",
    "def split(slices):\n",
    "    ids = df[groups].unique()\n",
    "    np.random.shuffle(ids)\n",
    "    the_slices_ids = np.array_split(ids, slices)\n",
    "    theSlices = [\n",
    "        df[df[groups].isin(ids)]\n",
    "        for ids in the_slices_ids\n",
    "    ]\n",
    "    estimationSets = []\n",
    "    validationSets = []\n",
    "    for i, v in enumerate(theSlices):\n",
    "        estimationSets.append(\n",
    "            pd.concat(theSlices[:i] + theSlices[i + 1:])\n",
    "        )\n",
    "        validationSets.append(v)\n",
    "    return zip(estimationSets, validationSets)"
   ]
  },
  {
   "cell_type": "code",
   "execution_count": 10,
   "id": "34d56c15",
   "metadata": {},
   "outputs": [
    {
     "name": "stdout",
     "output_type": "stream",
     "text": [
      "Log likelihood for 16537 validation data: -0.8387741250663399\n",
      "Log likelihood for 16435 validation data: -0.8397768599444548\n",
      "Log likelihood for 15823 validation data: -0.8455486705776686\n",
      "Log likelihood for 16123 validation data: -0.8379846052923369\n",
      "Log likelihood for 16168 validation data: -0.8295852237652763\n"
     ]
    }
   ],
   "source": [
    "import pandas as pd\n",
    "import numpy as np\n",
    "from collections import namedtuple\n",
    "\n",
    "# Define a named tuple to store estimation and validation sets\n",
    "DatasetSplit = namedtuple('DatasetSplit', ['estimation', 'validation'])\n",
    "\n",
    "def split(slices=5, groups='household_id'):\n",
    "    ids = df[groups].unique()  # Get unique household IDs or group IDs\n",
    "    np.random.shuffle(ids)  # Shuffle them randomly\n",
    "    the_slices_ids = np.array_split(ids, slices)  # Split into N parts\n",
    "    theSlices = [\n",
    "        df[df[groups].isin(ids)]  # Get the subset of the dataframe based on the slice of IDs\n",
    "        for ids in the_slices_ids\n",
    "    ]\n",
    "    \n",
    "    estimationSets = []\n",
    "    validationSets = []\n",
    "    \n",
    "    # For each slice, define the estimation and validation sets\n",
    "    for i, v in enumerate(theSlices):\n",
    "        estimationSet = pd.concat(theSlices[:i] + theSlices[i + 1:])  # All data except slice i\n",
    "        validationSet = v  # Slice i\n",
    "        estimationSets.append(DatasetSplit(estimation=estimationSet, validation=validationSet))\n",
    "    \n",
    "    return estimationSets\n",
    "\n",
    "# Example usage of split function\n",
    "validationData = split(slices=5)\n",
    "\n",
    "# Assuming biogeme has been defined and initialized earlier, and 'results' is the model estimation result\n",
    "validation_results = biogeme.validate(results, validationData)\n",
    "\n",
    "for slide in validation_results:\n",
    "    print(\n",
    "        f'Log likelihood for {slide.shape[0]} validation data: '\n",
    "        f'{slide[\"Loglikelihood\"].mean()}'\n",
    "    )\n"
   ]
  },
  {
   "cell_type": "code",
   "execution_count": 11,
   "id": "842f2172",
   "metadata": {},
   "outputs": [
    {
     "name": "stdout",
     "output_type": "stream",
     "text": [
      "                       Value  Rob. Std err  Rob. t-test  Rob. p-value\n",
      "ASC_CYCLING        -4.737083      0.050536   -93.736195           0.0\n",
      "ASC_DRIVING        -1.429229      0.035376   -40.400942           0.0\n",
      "ASC_PT             -2.305768      0.036500   -63.172545           0.0\n",
      "B_COST_DRIVING     -0.100153      0.004214   -23.764264           0.0\n",
      "B_COST_PT          -0.185923      0.008029   -23.156057           0.0\n",
      "B_TIME_CYCLING     -4.936345      0.129450   -38.133235           0.0\n",
      "B_TIME_DRIVING     -4.231305      0.123544   -34.249504           0.0\n",
      "B_TIME_PT_ACCESS   -4.823427      0.112365   -42.926574           0.0\n",
      "B_TIME_PT_BUS      -1.991148      0.071800   -27.731694           0.0\n",
      "B_TIME_PT_INT_WAIT -4.344064      0.176279   -24.643055           0.0\n",
      "B_TIME_PT_RAIL     -1.660247      0.132316   -12.547556           0.0\n",
      "B_TIME_WALKING     -8.222140      0.104374   -78.775747           0.0\n",
      "B_TRAFFIC_DRIVING  -3.020438      0.058185   -51.911110           0.0\n",
      "Log-likelihood: -67929.36\n"
     ]
    },
    {
     "ename": "AttributeError",
     "evalue": "'rawResults' object has no attribute 'niter'",
     "output_type": "error",
     "traceback": [
      "\u001b[1;31m---------------------------------------------------------------------------\u001b[0m",
      "\u001b[1;31mAttributeError\u001b[0m                            Traceback (most recent call last)",
      "\u001b[1;32m<ipython-input-11-2e4765dc5b13>\u001b[0m in \u001b[0;36m<module>\u001b[1;34m\u001b[0m\n\u001b[0;32m      7\u001b[0m \u001b[1;31m# You can also print specific metrics like log-likelihood, number of iterations, etc.\u001b[0m\u001b[1;33m\u001b[0m\u001b[1;33m\u001b[0m\u001b[0m\n\u001b[0;32m      8\u001b[0m \u001b[0mprint\u001b[0m\u001b[1;33m(\u001b[0m\u001b[1;34mf'Log-likelihood: {results.data.logLike:.2f}'\u001b[0m\u001b[1;33m)\u001b[0m\u001b[1;33m\u001b[0m\u001b[1;33m\u001b[0m\u001b[0m\n\u001b[1;32m----> 9\u001b[1;33m \u001b[0mprint\u001b[0m\u001b[1;33m(\u001b[0m\u001b[1;34mf'Number of iterations: {results.data.niter}'\u001b[0m\u001b[1;33m)\u001b[0m\u001b[1;33m\u001b[0m\u001b[1;33m\u001b[0m\u001b[0m\n\u001b[0m",
      "\u001b[1;31mAttributeError\u001b[0m: 'rawResults' object has no attribute 'niter'"
     ]
    }
   ],
   "source": [
    "# Get the summary of the results\n",
    "summary = results.getEstimatedParameters()\n",
    "\n",
    "# Display the results\n",
    "print(summary)\n",
    "\n",
    "# You can also print specific metrics like log-likelihood, number of iterations, etc.\n",
    "print(f'Log-likelihood: {results.data.logLike:.2f}')\n",
    "print(f'Number of iterations: {results.data.niter}')"
   ]
  },
  {
   "cell_type": "code",
   "execution_count": 12,
   "id": "9d629a19",
   "metadata": {},
   "outputs": [
    {
     "name": "stdout",
     "output_type": "stream",
     "text": [
      "Null log-likelihood: -112409.06456558515\n",
      "Model log-likelihood: -67929.36181464508\n",
      "Likelihood Ratio Test Statistic: 88959.40550188016\n",
      "P-value: 0.0\n",
      "Adjusted Rho-Square: 0.3955793327058241\n"
     ]
    }
   ],
   "source": [
    "# Compute null log-likelihood\n",
    "null_loglikelihood = biogeme.calculateNullLoglikelihood(av)\n",
    "print(f\"Null log-likelihood: {null_loglikelihood}\")\n",
    "\n",
    "# Estimate the model\n",
    "results = biogeme.estimate()\n",
    "\n",
    "# Extract the model log-likelihood\n",
    "model_loglikelihood = results.data.logLike\n",
    "print(f\"Model log-likelihood: {model_loglikelihood}\")\n",
    "\n",
    "# Degrees of freedom (number of estimated parameters)\n",
    "num_parameters = len(results.getEstimatedParameters())\n",
    "\n",
    "# Likelihood Ratio Test\n",
    "from scipy.stats import chi2\n",
    "\n",
    "lr_test_statistic = -2 * (null_loglikelihood - model_loglikelihood)\n",
    "p_value = chi2.sf(lr_test_statistic, num_parameters)\n",
    "\n",
    "print(f\"Likelihood Ratio Test Statistic: {lr_test_statistic}\")\n",
    "print(f\"P-value: {p_value}\")\n",
    "\n",
    "# Adjusted Rho-Square\n",
    "adjusted_rho_square = 1 - (model_loglikelihood - num_parameters) / null_loglikelihood\n",
    "print(f\"Adjusted Rho-Square: {adjusted_rho_square}\")\n"
   ]
  },
  {
   "cell_type": "code",
   "execution_count": 13,
   "id": "2c298309",
   "metadata": {},
   "outputs": [
    {
     "name": "stdout",
     "output_type": "stream",
     "text": [
      "Chi-Square: 88959.40550188016\n",
      "Degrees of Freedom: 13\n"
     ]
    }
   ],
   "source": [
    "# Compute the Chi-square statistic\n",
    "chi_square = -2 * (null_loglikelihood - model_loglikelihood)\n",
    "\n",
    "# Degrees of freedom (number of estimated parameters)\n",
    "degrees_of_freedom = len(results.getEstimatedParameters())  # Number of parameters estimated\n",
    "\n",
    "# Print the results\n",
    "print(f\"Chi-Square: {chi_square}\")\n",
    "print(f\"Degrees of Freedom: {degrees_of_freedom}\")\n"
   ]
  }
 ],
 "metadata": {
  "kernelspec": {
   "display_name": "Python 3",
   "language": "python",
   "name": "python3"
  },
  "language_info": {
   "codemirror_mode": {
    "name": "ipython",
    "version": 3
   },
   "file_extension": ".py",
   "mimetype": "text/x-python",
   "name": "python",
   "nbconvert_exporter": "python",
   "pygments_lexer": "ipython3",
   "version": "3.9.11"
  }
 },
 "nbformat": 4,
 "nbformat_minor": 5
}
