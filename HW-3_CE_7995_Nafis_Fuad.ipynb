{
 "cells": [
  {
   "cell_type": "code",
   "execution_count": 1,
   "id": "fc0cd9e0",
   "metadata": {},
   "outputs": [
    {
     "name": "stderr",
     "output_type": "stream",
     "text": [
      "<ipython-input-1-7a2cfa56622d>:5: FutureWarning: The 'delim_whitespace' keyword in pd.read_csv is deprecated and will be removed in a future version. Use ``sep='\\s+'`` instead\n",
      "  df = pd.read_csv(file_path, delim_whitespace=True)\n"
     ]
    }
   ],
   "source": [
    "import pandas as pd\n",
    "\n",
    "# Read a space-delimited .dat file\n",
    "file_path = 'D:/7995/HW-3/quebec.dat'  # Replace with your file path\n",
    "df = pd.read_csv(file_path, delim_whitespace=True) "
   ]
  },
  {
   "cell_type": "code",
   "execution_count": 2,
   "id": "aa1b406f",
   "metadata": {},
   "outputs": [
    {
     "data": {
      "text/html": [
       "<div>\n",
       "<style scoped>\n",
       "    .dataframe tbody tr th:only-of-type {\n",
       "        vertical-align: middle;\n",
       "    }\n",
       "\n",
       "    .dataframe tbody tr th {\n",
       "        vertical-align: top;\n",
       "    }\n",
       "\n",
       "    .dataframe thead th {\n",
       "        text-align: right;\n",
       "    }\n",
       "</style>\n",
       "<table border=\"1\" class=\"dataframe\">\n",
       "  <thead>\n",
       "    <tr style=\"text-align: right;\">\n",
       "      <th></th>\n",
       "      <th>sector</th>\n",
       "      <th>hdd</th>\n",
       "      <th>choice</th>\n",
       "      <th>conv_year</th>\n",
       "      <th>house_type</th>\n",
       "      <th>constr_year</th>\n",
       "      <th>nb_rooms</th>\n",
       "      <th>nb_pers</th>\n",
       "      <th>own_rent</th>\n",
       "      <th>surface</th>\n",
       "      <th>...</th>\n",
       "      <th>cost_inc9</th>\n",
       "      <th>avail1</th>\n",
       "      <th>avail2</th>\n",
       "      <th>avail3</th>\n",
       "      <th>avail4</th>\n",
       "      <th>avail5</th>\n",
       "      <th>avail6</th>\n",
       "      <th>avail7</th>\n",
       "      <th>avail8</th>\n",
       "      <th>avail9</th>\n",
       "    </tr>\n",
       "  </thead>\n",
       "  <tbody>\n",
       "    <tr>\n",
       "      <th>0</th>\n",
       "      <td>1</td>\n",
       "      <td>5.530</td>\n",
       "      <td>3</td>\n",
       "      <td>5</td>\n",
       "      <td>2</td>\n",
       "      <td>4</td>\n",
       "      <td>8</td>\n",
       "      <td>2</td>\n",
       "      <td>1</td>\n",
       "      <td>0.80</td>\n",
       "      <td>...</td>\n",
       "      <td>1.196595</td>\n",
       "      <td>0</td>\n",
       "      <td>0</td>\n",
       "      <td>1</td>\n",
       "      <td>1</td>\n",
       "      <td>1</td>\n",
       "      <td>1</td>\n",
       "      <td>1</td>\n",
       "      <td>1</td>\n",
       "      <td>1</td>\n",
       "    </tr>\n",
       "    <tr>\n",
       "      <th>1</th>\n",
       "      <td>4</td>\n",
       "      <td>4.359</td>\n",
       "      <td>3</td>\n",
       "      <td>7</td>\n",
       "      <td>2</td>\n",
       "      <td>3</td>\n",
       "      <td>7</td>\n",
       "      <td>4</td>\n",
       "      <td>1</td>\n",
       "      <td>1.75</td>\n",
       "      <td>...</td>\n",
       "      <td>5.128263</td>\n",
       "      <td>0</td>\n",
       "      <td>0</td>\n",
       "      <td>1</td>\n",
       "      <td>1</td>\n",
       "      <td>1</td>\n",
       "      <td>1</td>\n",
       "      <td>1</td>\n",
       "      <td>1</td>\n",
       "      <td>1</td>\n",
       "    </tr>\n",
       "    <tr>\n",
       "      <th>2</th>\n",
       "      <td>4</td>\n",
       "      <td>4.359</td>\n",
       "      <td>3</td>\n",
       "      <td>5</td>\n",
       "      <td>2</td>\n",
       "      <td>3</td>\n",
       "      <td>6</td>\n",
       "      <td>2</td>\n",
       "      <td>1</td>\n",
       "      <td>1.25</td>\n",
       "      <td>...</td>\n",
       "      <td>3.047926</td>\n",
       "      <td>0</td>\n",
       "      <td>0</td>\n",
       "      <td>1</td>\n",
       "      <td>1</td>\n",
       "      <td>1</td>\n",
       "      <td>1</td>\n",
       "      <td>1</td>\n",
       "      <td>1</td>\n",
       "      <td>1</td>\n",
       "    </tr>\n",
       "  </tbody>\n",
       "</table>\n",
       "<p>3 rows × 48 columns</p>\n",
       "</div>"
      ],
      "text/plain": [
       "   sector    hdd  choice  conv_year  house_type  constr_year  nb_rooms  \\\n",
       "0       1  5.530       3          5           2            4         8   \n",
       "1       4  4.359       3          7           2            3         7   \n",
       "2       4  4.359       3          5           2            3         6   \n",
       "\n",
       "   nb_pers  own_rent  surface  ...  cost_inc9  avail1  avail2  avail3  avail4  \\\n",
       "0        2         1     0.80  ...   1.196595       0       0       1       1   \n",
       "1        4         1     1.75  ...   5.128263       0       0       1       1   \n",
       "2        2         1     1.25  ...   3.047926       0       0       1       1   \n",
       "\n",
       "   avail5  avail6  avail7  avail8  avail9  \n",
       "0       1       1       1       1       1  \n",
       "1       1       1       1       1       1  \n",
       "2       1       1       1       1       1  \n",
       "\n",
       "[3 rows x 48 columns]"
      ]
     },
     "execution_count": 2,
     "metadata": {},
     "output_type": "execute_result"
    }
   ],
   "source": [
    "df.head(3)"
   ]
  },
  {
   "cell_type": "code",
   "execution_count": 3,
   "id": "72b639fe",
   "metadata": {},
   "outputs": [],
   "source": [
    "import numpy as np\n",
    "import pandas as pd\n",
    "import biogeme.database as db\n",
    "import biogeme.biogeme as bio"
   ]
  },
  {
   "cell_type": "code",
   "execution_count": 4,
   "id": "912be2fa",
   "metadata": {},
   "outputs": [],
   "source": [
    "from biogeme import models\n",
    "from biogeme.expressions import Beta"
   ]
  },
  {
   "cell_type": "code",
   "execution_count": 5,
   "id": "c3d6f2f7",
   "metadata": {},
   "outputs": [],
   "source": [
    "database = db.Database('quebec', df)"
   ]
  },
  {
   "cell_type": "code",
   "execution_count": 6,
   "id": "451011eb",
   "metadata": {},
   "outputs": [],
   "source": [
    "globals().update(database.variables)"
   ]
  },
  {
   "cell_type": "code",
   "execution_count": 7,
   "id": "a6fd7dcd",
   "metadata": {},
   "outputs": [
    {
     "data": {
      "text/plain": [
       "['sector',\n",
       " 'hdd',\n",
       " 'choice',\n",
       " 'conv_year',\n",
       " 'house_type',\n",
       " 'constr_year',\n",
       " 'nb_rooms',\n",
       " 'nb_pers',\n",
       " 'own_rent',\n",
       " 'surface',\n",
       " 'age',\n",
       " 'income',\n",
       " 'op_cost1',\n",
       " 'op_cost2',\n",
       " 'op_cost3',\n",
       " 'op_cost4',\n",
       " 'op_cost5',\n",
       " 'op_cost6',\n",
       " 'op_cost7',\n",
       " 'op_cost8',\n",
       " 'op_cost9',\n",
       " 'fix_cost1',\n",
       " 'fix_cost2',\n",
       " 'fix_cost3',\n",
       " 'fix_cost4',\n",
       " 'fix_cost5',\n",
       " 'fix_cost6',\n",
       " 'fix_cost7',\n",
       " 'fix_cost8',\n",
       " 'fix_cost9',\n",
       " 'cost_inc1',\n",
       " 'cost_inc2',\n",
       " 'cost_inc3',\n",
       " 'cost_inc4',\n",
       " 'cost_inc5',\n",
       " 'cost_inc6',\n",
       " 'cost_inc7',\n",
       " 'cost_inc8',\n",
       " 'cost_inc9',\n",
       " 'avail1',\n",
       " 'avail2',\n",
       " 'avail3',\n",
       " 'avail4',\n",
       " 'avail5',\n",
       " 'avail6',\n",
       " 'avail7',\n",
       " 'avail8',\n",
       " 'avail9']"
      ]
     },
     "execution_count": 7,
     "metadata": {},
     "output_type": "execute_result"
    }
   ],
   "source": [
    "list(df.columns)"
   ]
  }
 ],
 "metadata": {
  "kernelspec": {
   "display_name": "Python 3",
   "language": "python",
   "name": "python3"
  },
  "language_info": {
   "codemirror_mode": {
    "name": "ipython",
    "version": 3
   },
   "file_extension": ".py",
   "mimetype": "text/x-python",
   "name": "python",
   "nbconvert_exporter": "python",
   "pygments_lexer": "ipython3",
   "version": "3.9.11"
  }
 },
 "nbformat": 4,
 "nbformat_minor": 5
}
