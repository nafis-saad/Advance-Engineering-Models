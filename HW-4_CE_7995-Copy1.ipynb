{
 "cells": [
  {
   "cell_type": "code",
   "execution_count": 11,
   "id": "6aaf3ba0",
   "metadata": {},
   "outputs": [],
   "source": [
    "import os\n",
    "os.chdir(\"D:/7995/HW-4\")"
   ]
  },
  {
   "cell_type": "code",
   "execution_count": 12,
   "id": "46bd6228",
   "metadata": {},
   "outputs": [],
   "source": [
    "import pandas as pd\n",
    "from biogeme import models\n",
    "from biogeme.expressions import Beta\n",
    "import biogeme.biogeme as bio"
   ]
  },
  {
   "cell_type": "code",
   "execution_count": 13,
   "id": "2ad329bd",
   "metadata": {},
   "outputs": [],
   "source": [
    "from biogeme import models\n",
    "from biogeme.expressions import Beta, Variable\n",
    "import biogeme.biogeme as bio\n",
    "import pandas as pd"
   ]
  },
  {
   "cell_type": "code",
   "execution_count": 14,
   "id": "51b91f82",
   "metadata": {},
   "outputs": [],
   "source": [
    "data = pd.read_csv(\"telephone.csv\")"
   ]
  },
  {
   "cell_type": "code",
   "execution_count": 15,
   "id": "00a6d0a5",
   "metadata": {},
   "outputs": [],
   "source": [
    "from biogeme.database import Database"
   ]
  },
  {
   "cell_type": "code",
   "execution_count": 16,
   "id": "d8bd7afd",
   "metadata": {},
   "outputs": [],
   "source": [
    "# Create a BIOGEME Database object\n",
    "database = Database(\"telephone\", data)"
   ]
  },
  {
   "cell_type": "code",
   "execution_count": 17,
   "id": "dbdd9139",
   "metadata": {},
   "outputs": [],
   "source": [
    "# Define household characteristics\n",
    "CHOICE = Variable('choice')  # Chosen alternative\n",
    "AREA = Variable('area')  # Geographic area\n",
    "USERS = Variable('users')  # Number of phone users\n",
    "INC = Variable('inc')  # Income level\n",
    "STATUS = Variable('status')  # Marital status\n",
    "EMPLOY = Variable('employ')  # Number of employed members\n",
    "\n"
   ]
  },
  {
   "cell_type": "code",
   "execution_count": 18,
   "id": "cadcd0d9",
   "metadata": {},
   "outputs": [],
   "source": [
    "# Define BIOGEME variables\n",
    "COST1 = Variable('cost1')\n",
    "COST2 = Variable('cost2')\n",
    "COST3 = Variable('cost3')\n",
    "COST4 = Variable('cost4')\n",
    "COST5 = Variable('cost5')\n",
    "AVAIL1 = Variable('avail1')\n",
    "AVAIL2 = Variable('avail2')\n",
    "AVAIL3 = Variable('avail3')\n",
    "AVAIL4 = Variable('avail4')\n",
    "AVAIL5 = Variable('avail5')\n",
    "USERS = Variable('users')\n",
    "EMPLOY = Variable('employ')\n",
    "AGE0 = Variable('age0')\n",
    "AGE1 = Variable('age1')\n",
    "AGE2 = Variable('age2')\n",
    "AGE3 = Variable('age3')\n",
    "AGE4 = Variable('age4')\n",
    "AGE5 = Variable('age5')\n",
    "AGE6 = Variable('age6')\n",
    "AGE7 = Variable('age7')\n",
    "AREA = Variable('area')\n",
    "INC = Variable('inc')\n",
    "STATUS = Variable('status')"
   ]
  },
  {
   "cell_type": "code",
   "execution_count": 19,
   "id": "73c38e5e",
   "metadata": {},
   "outputs": [],
   "source": [
    "from biogeme.expressions import Beta, Variable, log  # Ensure log is imported\n"
   ]
  },
  {
   "cell_type": "code",
   "execution_count": 20,
   "id": "2d288c31",
   "metadata": {},
   "outputs": [],
   "source": [
    "LOG_COST1 = log(COST1 + 0.01)  # Add a small constant to avoid log(0)\n",
    "LOG_COST2 = log(COST2 + 0.01)\n",
    "LOG_COST3 = log(COST3 + 0.01)\n",
    "LOG_COST4 = log(COST4 + 0.01)\n",
    "LOG_COST5 = log(COST5 + 0.01)"
   ]
  },
  {
   "cell_type": "code",
   "execution_count": 21,
   "id": "f34af0fb",
   "metadata": {},
   "outputs": [],
   "source": [
    "# Define coefficients\n",
    "ASC1 = 0  # Reference alternative\n",
    "ASC2 = Beta('ASC2', 0, None, None, 0)\n",
    "ASC3 = Beta('ASC3', 0, None, None, 0)\n",
    "ASC4 = Beta('ASC4', 0, None, None, 0)\n",
    "ASC5 = Beta('ASC5', 0, None, None, 0)\n",
    "B_COST = Beta('B_COST', 0, None, None, 0)\n",
    "B_USERS = Beta('B_USERS', 0, None, None, 0)\n",
    "B_EMPLOY = Beta('B_EMPLOY', 0, None, None, 0)\n",
    "B_AGE0 = Beta('B_AGE0', 0, None, None, 0)\n",
    "B_AGE1 = Beta('B_AGE1', 0, None, None, 0)\n",
    "B_AGE2 = Beta('B_AGE2', 0, None, None, 0)\n",
    "B_AGE3 = Beta('B_AGE3', 0, None, None, 0)\n",
    "B_AGE4 = Beta('B_AGE4', 0, None, None, 0)\n",
    "B_AGE5 = Beta('B_AGE5', 0, None, None, 0)\n",
    "B_AGE6 = Beta('B_AGE6', 0, None, None, 0)\n",
    "B_AGE7 = Beta('B_AGE7', 0, None, None, 0)\n",
    "B_AREA_METRO = Beta('B_AREA_METRO', 0, None, None, 0)\n",
    "B_AREA_SUBURBAN = Beta('B_AREA_SUBURBAN', 0, None, None, 0)\n",
    "B_AREA_PERIMETER_EXT = Beta('B_AREA_PERIMETER_EXT', 0, None, None, 0)\n",
    "B_AREA_PERIMETER_NO_EXT = Beta('B_AREA_PERIMETER_NO_EXT', 0, None, None, 0)\n",
    "B_INC_LOW = Beta('B_INC_LOW', 0, None, None, 0)\n",
    "B_INC_MID = Beta('B_INC_MID', 0, None, None, 0)\n",
    "B_INC_HIGH = Beta('B_INC_HIGH', 0, None, None, 0)\n",
    "B_INC_30K_40K = Beta('B_INC_30K_40K', 0, None, None, 0)\n",
    "B_STATUS_SINGLE = Beta('B_STATUS_SINGLE', 0, None, None, 0)\n",
    "B_STATUS_MARRIED = Beta('B_STATUS_MARRIED', 0, None, None, 0)\n",
    "B_STATUS_WIDOWED = Beta('B_STATUS_WIDOWED', 0, None, None, 0)\n",
    "B_STATUS_DIVORCED = Beta('B_STATUS_DIVORCED', 0, None, None, 0)\n"
   ]
  },
  {
   "cell_type": "code",
   "execution_count": 22,
   "id": "f80d4ea2",
   "metadata": {},
   "outputs": [],
   "source": [
    "# Utility functions\n",
    "V1 = (B_COST * LOG_COST1)\n",
    "\n",
    "V2 = (ASC2 +\n",
    "      B_COST * LOG_COST2)\n",
    "\n",
    "V3 = (ASC3 +\n",
    "      B_COST * LOG_COST3)\n",
    "\n",
    "V4 = (ASC4 +\n",
    "      B_COST * LOG_COST4 )\n",
    "\n",
    "V5 = (ASC5 +\n",
    "      B_COST * LOG_COST5)\n",
    "\n",
    "\n"
   ]
  },
  {
   "cell_type": "code",
   "execution_count": 23,
   "id": "9341a665",
   "metadata": {},
   "outputs": [],
   "source": [
    "# Availability of alternatives\n",
    "av = {1: AVAIL1, 2: AVAIL2, 3: AVAIL3, 4: AVAIL4, 5: AVAIL5}"
   ]
  },
  {
   "cell_type": "code",
   "execution_count": 24,
   "id": "47a46d3c",
   "metadata": {},
   "outputs": [],
   "source": [
    "from biogeme.nests import NestsForNestedLogit\n",
    "\n",
    "# Define nesting coefficients\n",
    "MU_MEASURED = Beta('MU_MEASURED', 1, None, None, 0)\n",
    "MU_FLAT = Beta('MU_FLAT', 1, None, None, 0)\n",
    "\n",
    "# Define the choice set\n",
    "choice_set = [1, 2, 3, 4, 5]  # All alternatives\n",
    "\n",
    "# Define nests using NestsForNestedLogit\n",
    "nests = NestsForNestedLogit(\n",
    "    choice_set=choice_set,\n",
    "    tuple_of_nests=[\n",
    "        (MU_MEASURED, [1, 2]),  # Measured Plans: Budget Measured and Standard Measured\n",
    "        (MU_FLAT, [3, 4, 5])    # Flat Plans: Local Flat, Extended Flat, Metro Flat\n",
    "    ]\n",
    ")\n"
   ]
  },
  {
   "cell_type": "code",
   "execution_count": 25,
   "id": "5434dbf2",
   "metadata": {},
   "outputs": [],
   "source": [
    "# Define the log-likelihood function\n",
    "logprob = models.lognested(\n",
    "    {1: V1, 2: V2, 3: V3, 4: V4, 5: V5},  # Utility functions for each alternative\n",
    "    av,                                   # Availability of each alternative\n",
    "    nests,                                # Nest definitions\n",
    "    CHOICE                                # Chosen alternative\n",
    ")"
   ]
  },
  {
   "cell_type": "code",
   "execution_count": 26,
   "id": "e8c15561",
   "metadata": {},
   "outputs": [],
   "source": [
    "# Define the BIOGEME object\n",
    "biogeme = bio.BIOGEME(database, logprob)\n",
    "biogeme.modelName = \"telephone_nested_logit\""
   ]
  },
  {
   "cell_type": "code",
   "execution_count": 27,
   "id": "bc2e40a3",
   "metadata": {},
   "outputs": [],
   "source": [
    "# Estimate parameters\n",
    "results = biogeme.estimate()"
   ]
  },
  {
   "cell_type": "code",
   "execution_count": 28,
   "id": "5b2feb24",
   "metadata": {},
   "outputs": [
    {
     "data": {
      "text/html": [
       "<div>\n",
       "<style scoped>\n",
       "    .dataframe tbody tr th:only-of-type {\n",
       "        vertical-align: middle;\n",
       "    }\n",
       "\n",
       "    .dataframe tbody tr th {\n",
       "        vertical-align: top;\n",
       "    }\n",
       "\n",
       "    .dataframe thead th {\n",
       "        text-align: right;\n",
       "    }\n",
       "</style>\n",
       "<table border=\"1\" class=\"dataframe\">\n",
       "  <thead>\n",
       "    <tr style=\"text-align: right;\">\n",
       "      <th></th>\n",
       "      <th>Value</th>\n",
       "      <th>Rob. Std err</th>\n",
       "      <th>Rob. t-test</th>\n",
       "      <th>Rob. p-value</th>\n",
       "    </tr>\n",
       "  </thead>\n",
       "  <tbody>\n",
       "    <tr>\n",
       "      <th>ASC2</th>\n",
       "      <td>0.567048</td>\n",
       "      <td>0.165545</td>\n",
       "      <td>3.425333</td>\n",
       "      <td>6.140468e-04</td>\n",
       "    </tr>\n",
       "    <tr>\n",
       "      <th>ASC3</th>\n",
       "      <td>1.137151</td>\n",
       "      <td>0.401873</td>\n",
       "      <td>2.829629</td>\n",
       "      <td>4.660208e-03</td>\n",
       "    </tr>\n",
       "    <tr>\n",
       "      <th>ASC4</th>\n",
       "      <td>-1.058842</td>\n",
       "      <td>3.279927</td>\n",
       "      <td>-0.322825</td>\n",
       "      <td>7.468280e-01</td>\n",
       "    </tr>\n",
       "    <tr>\n",
       "      <th>ASC5</th>\n",
       "      <td>0.782132</td>\n",
       "      <td>1.448199</td>\n",
       "      <td>0.540072</td>\n",
       "      <td>5.891474e-01</td>\n",
       "    </tr>\n",
       "    <tr>\n",
       "      <th>B_COST</th>\n",
       "      <td>-2.146218</td>\n",
       "      <td>0.282287</td>\n",
       "      <td>-7.602952</td>\n",
       "      <td>2.886580e-14</td>\n",
       "    </tr>\n",
       "    <tr>\n",
       "      <th>MU_FLAT</th>\n",
       "      <td>0.338450</td>\n",
       "      <td>0.174565</td>\n",
       "      <td>1.938816</td>\n",
       "      <td>5.252379e-02</td>\n",
       "    </tr>\n",
       "    <tr>\n",
       "      <th>MU_MEASURED</th>\n",
       "      <td>1.415180</td>\n",
       "      <td>0.370974</td>\n",
       "      <td>3.814772</td>\n",
       "      <td>1.363088e-04</td>\n",
       "    </tr>\n",
       "  </tbody>\n",
       "</table>\n",
       "</div>"
      ],
      "text/plain": [
       "                Value  Rob. Std err  Rob. t-test  Rob. p-value\n",
       "ASC2         0.567048      0.165545     3.425333  6.140468e-04\n",
       "ASC3         1.137151      0.401873     2.829629  4.660208e-03\n",
       "ASC4        -1.058842      3.279927    -0.322825  7.468280e-01\n",
       "ASC5         0.782132      1.448199     0.540072  5.891474e-01\n",
       "B_COST      -2.146218      0.282287    -7.602952  2.886580e-14\n",
       "MU_FLAT      0.338450      0.174565     1.938816  5.252379e-02\n",
       "MU_MEASURED  1.415180      0.370974     3.814772  1.363088e-04"
      ]
     },
     "execution_count": 28,
     "metadata": {},
     "output_type": "execute_result"
    }
   ],
   "source": [
    "# Display results\n",
    "results.getEstimatedParameters()"
   ]
  },
  {
   "cell_type": "code",
   "execution_count": 29,
   "id": "74b0fd95",
   "metadata": {},
   "outputs": [
    {
     "name": "stdout",
     "output_type": "stream",
     "text": [
      "Null log-likelihood: -560.2495797355458\n",
      "Model log-likelihood: -477.0765839639486\n",
      "Likelihood Ratio Test Statistic: 166.34599154319437\n",
      "P-value: 1.4787610873855617e-32\n",
      "Adjusted Rho-Square: 0.1359626111768849\n"
     ]
    }
   ],
   "source": [
    "# Compute null log-likelihood\n",
    "null_loglikelihood = biogeme.calculateNullLoglikelihood(av)\n",
    "print(f\"Null log-likelihood: {null_loglikelihood}\")\n",
    "\n",
    "# Estimate the model\n",
    "results = biogeme.estimate()\n",
    "\n",
    "# Extract the model log-likelihood\n",
    "model_loglikelihood = results.data.logLike\n",
    "print(f\"Model log-likelihood: {model_loglikelihood}\")\n",
    "\n",
    "# Degrees of freedom (number of estimated parameters)\n",
    "num_parameters = len(results.getEstimatedParameters())\n",
    "\n",
    "# Likelihood Ratio Test\n",
    "from scipy.stats import chi2\n",
    "\n",
    "lr_test_statistic = -2 * (null_loglikelihood - model_loglikelihood)\n",
    "p_value = chi2.sf(lr_test_statistic, num_parameters)\n",
    "\n",
    "print(f\"Likelihood Ratio Test Statistic: {lr_test_statistic}\")\n",
    "print(f\"P-value: {p_value}\")\n",
    "\n",
    "# Adjusted Rho-Square\n",
    "adjusted_rho_square = 1 - (model_loglikelihood - num_parameters) / null_loglikelihood\n",
    "print(f\"Adjusted Rho-Square: {adjusted_rho_square}\")\n"
   ]
  }
 ],
 "metadata": {
  "kernelspec": {
   "display_name": "Python 3",
   "language": "python",
   "name": "python3"
  },
  "language_info": {
   "codemirror_mode": {
    "name": "ipython",
    "version": 3
   },
   "file_extension": ".py",
   "mimetype": "text/x-python",
   "name": "python",
   "nbconvert_exporter": "python",
   "pygments_lexer": "ipython3",
   "version": "3.9.11"
  }
 },
 "nbformat": 4,
 "nbformat_minor": 5
}
